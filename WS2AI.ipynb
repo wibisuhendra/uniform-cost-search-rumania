{
  "nbformat": 4,
  "nbformat_minor": 0,
  "metadata": {
    "colab": {
      "name": "WS2AI.ipynb",
      "provenance": [],
      "collapsed_sections": [],
      "authorship_tag": "ABX9TyNjQc0Ipx9hxmyBXbOpgtfk",
      "include_colab_link": true
    },
    "kernelspec": {
      "name": "python3",
      "display_name": "Python 3"
    }
  },
  "cells": [
    {
      "cell_type": "markdown",
      "metadata": {
        "id": "view-in-github",
        "colab_type": "text"
      },
      "source": [
        "<a href=\"https://colab.research.google.com/github/wibisuhendra/uniform-cost-search-rumania/blob/master/WS2AI.ipynb\" target=\"_parent\"><img src=\"https://colab.research.google.com/assets/colab-badge.svg\" alt=\"Open In Colab\"/></a>"
      ]
    },
    {
      "cell_type": "code",
      "metadata": {
        "id": "qF8SQ4E6JijP",
        "colab_type": "code",
        "colab": {}
      },
      "source": [
        "import queue as qw\n",
        "import sys\n",
        "\n",
        "graph = {\n",
        "    \"Arad\" : {\"Zerind\":75,\"Timisoara\":118,\"Sibiu\":140},\n",
        "    \"Zerind\": {\"Oradea\" : 71, \"Arad\": 75},\n",
        "    \"Timisoara\" : {\"Arad\": 118, \"Lugoj\" : 111},\n",
        "    \"Sibiu\": {\"Arad\": 140, \"Oradea\" : 151, \"Fagaras\" : 99, \"RimnicuVilcea\" : 80},\n",
        "    \"Oradea\" : {\"Zerind\": 71, \"Sibiu\": 151},\n",
        "    \"Lugoj\" : {\"Timisoara\" : 111, \"Mehadia\" : 70},\n",
        "    \"RimnicuVilcea\" : {\"Sibiu\": 80, \"Pitesti\": 97, \"Craiova\" : 146},\n",
        "    \"Mehadia\" : {\"Lugoj\" : 70, \"Dobreta\" : 75},\n",
        "    \"Craiova\" : {\"Dobreta\" : 120, \"RimnicuVilcea\" : 146, \"Pitesti\": 138},\n",
        "    \"Pitesti\": {\"RimnicuVilcea\" : 97, \"Craiova\" : 138, \"Bucharest\" : 101},\n",
        "    \"Fagaras\" : {\"Sibiu\": 99, \"Bucharest\" : 211},\n",
        "    \"Dobreta\" : {\"Mehadia\" : 75, \"Craiova\" : 120},\n",
        "    \"Bucharest\" : {\"Fagaras\" : 211, \"Pitesti\": 101, \"Giurgiu\": 90,\"Urziceni\":85},\n",
        "    \"Giurgiu\": {\"Bucharest\" : 90},\n",
        "    \"Urziceni\": {\"Hirsova\" : 98,\"Vaslui\":142,\"Bucharest\":85},\n",
        "    \"Vaslui\": {\"Iasi\":92,\"Urziceni\":142},\n",
        "    \"Iasi\": {\"Neamt\":87, \"Vaslui\":92},\n",
        "    \"Hirsova\" : {\"Eforie\":86,\"Urziceni\":98},\n",
        "    \"Eforie\" : {\"Hirsova\":86},\n",
        "    \"Neamt\":{\"Iasi\":87}\n",
        "}\n",
        "\n",
        "current = qw.PriorityQueue()\n"
      ],
      "execution_count": null,
      "outputs": []
    },
    {
      "cell_type": "code",
      "metadata": {
        "id": "EaMA647HOMHu",
        "colab_type": "code",
        "colab": {
          "base_uri": "https://localhost:8080/",
          "height": 71
        },
        "outputId": "7107bae2-8112-4570-b8a7-51757e3a2833"
      },
      "source": [
        "def isGoal(current,goal):\n",
        "  return current == goal\n",
        "\n",
        "def UCS(grp,start,goal):\n",
        "  fringe = qw.PriorityQueue() #fringe menggunakan priority Q\n",
        "  \n",
        "  fringe.put((0,0,start))\n",
        "  \n",
        "  visited = []  #var penampung visited\n",
        "  pred = {} #var penampung pred untuk path\n",
        "  total = 0 #var total jarak\n",
        "   \n",
        "  #selama fringe tidak kosong\n",
        "  while len(fringe.queue)>0:\n",
        "    #ambil fringe berdasarkan prioritas\n",
        "    #print(fringe.queue)\n",
        "    current = fringe.get()\n",
        "    #tampung jarak dari node tersebut\n",
        "    cur_jarak = current[0]\n",
        "    #bentuk fringe (jarak,asal,tujuan) exp = (75, 'Arad', 'Zerind'), (118, 'Arad', 'Timisoara'), (140, 'Arad', 'Sibiu')\n",
        "    pred[current[2]] = current[1]#simpan pred sebagai tujuan : asal, exp =  'Zerind': 'Arad'\n",
        "    if current[2] not in visited:#jika belum ditelusuri\n",
        "      visited.append(current[2])\n",
        "      for tetangga,jarak in grp[current[2]].items():  # foreach tiap tiap node tetangga\n",
        "        if tetangga not in visited: #jika tetangga tidak ada di visited\n",
        "          fringe.put((cur_jarak + jarak,current[2],tetangga)) #simpan dengan format fringe\n",
        "    #jika ketemu\n",
        "    if isGoal(current[2],goal):\n",
        "      return (True,pred,cur_jarak)\n",
        "      \n",
        "    \n",
        "\n",
        "  return (False,())\n",
        "      \n",
        "\n",
        "initial = \"Arad\"\n",
        "g=\"Bucharest\"\n",
        "cek,pred,cost= UCS(graph,initial,g)\n",
        "\n",
        "def getRoute(start,goal,preds):\n",
        "  cur = preds[goal]\n",
        "  temp = []\n",
        "  temp.append(goal)\n",
        "  while cur != start:\n",
        "    temp.append(cur)\n",
        "    cur = preds[cur]\n",
        "  \n",
        "  temp.append(start)\n",
        "  temp.reverse()\n",
        "  return temp\n",
        "rute = getRoute(initial,g,pred)\n",
        "print(pred)\n",
        "print(\"Jalur : \"+str(rute)+\", Jarak : \"+str(cost))"
      ],
      "execution_count": null,
      "outputs": [
        {
          "output_type": "stream",
          "text": [
            "{'Arad': 0, 'Zerind': 'Arad', 'Timisoara': 'Arad', 'Sibiu': 'Arad', 'Oradea': 'Sibiu', 'RimnicuVilcea': 'Sibiu', 'Lugoj': 'Timisoara', 'Fagaras': 'Sibiu', 'Mehadia': 'Lugoj', 'Pitesti': 'RimnicuVilcea', 'Craiova': 'RimnicuVilcea', 'Dobreta': 'Mehadia', 'Bucharest': 'Pitesti'}\n",
            "Jalur : ['Arad', 'Sibiu', 'RimnicuVilcea', 'Pitesti', 'Bucharest'], Jarak : 418\n"
          ],
          "name": "stdout"
        }
      ]
    },
    {
      "cell_type": "code",
      "metadata": {
        "id": "9kTRc-bfeRtB",
        "colab_type": "code",
        "colab": {}
      },
      "source": [
        ""
      ],
      "execution_count": null,
      "outputs": []
    }
  ]
}